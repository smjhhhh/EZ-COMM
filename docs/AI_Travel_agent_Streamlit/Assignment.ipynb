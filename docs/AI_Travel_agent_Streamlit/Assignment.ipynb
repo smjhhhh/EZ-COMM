{
 "cells": [
  {
   "cell_type": "code",
   "execution_count": 1,
   "metadata": {},
   "outputs": [
    {
     "name": "stdout",
     "output_type": "stream",
     "text": [
      "hello\n"
     ]
    }
   ],
   "source": [
    "print('hello')"
   ]
  },
  {
   "cell_type": "markdown",
   "metadata": {},
   "source": [
    "Assignment : \n",
    "Assignment:\n",
    "    \n",
    "AI Travel Agent & Expense Planner(Purpose: Trip planning for any city worldwide with Realtime data.\")\n",
    "\n",
    "• Real-time weather information\n",
    "• Top attractions and activities\n",
    "• Hotel cost calculation (per day × total days)\n",
    "• Currency conversion to user's native currency\n",
    "• Complete itinerary generation\n",
    "• Total expense calculation\n",
    "• generate a summary of the entire output\n",
    "\n",
    "user_input\n",
    "  |\n",
    "search attraction and activity\n",
    "1. search attracation\n",
    "2. search restaurant\n",
    "3. search activity\n",
    "4. search transportation\n",
    "  |\n",
    "search weather forcasting\n",
    "1. get current weather\n",
    "2. get weather forcast\n",
    "  |\n",
    "search hotel costs\n",
    "1. search hotel\n",
    "2. estimate the hotel cost\n",
    "3. budget_range\n",
    "  |\n",
    "calculate total cost\n",
    "1. add\n",
    "2. multiply\n",
    "3. calculated total cost\n",
    "4. calcualte the daily budget\n",
    "    | \n",
    "currency_converion\n",
    "1. get exchnage rate\n",
    "2. convert currancy\n",
    "    | \n",
    "Itinery generation\n",
    "1. get day plan\n",
    "2. crete full itinery\n",
    "    |\n",
    "create Trip Summary\n",
    "    |\n",
    "Retun complete traval plan\n",
    "\n",
    "Note: if you know the OOPS then design this entire system using object and class in modular fashion.\n",
    "\n",
    "\n",
    "deadline is till next friday 9PM IST\n",
    "\n",
    "\n",
    " everyone you can submit the assignments in this form. MAke sure to have one GitHub link and put all the assignments there https://forms.gle/g8RZ4qx8yvNcih4B7    \n",
    "    "
   ]
  },
  {
   "cell_type": "markdown",
   "metadata": {},
   "source": [
    "### Call LLM | Create tools - Custom Tools :[ Multiply | Addition | Division ] | Create built in tools : [ Weather(OpenWeatherMap) : Google Serper [ Top attractions:restraunt:Avg expese/day] ]"
   ]
  },
  {
   "cell_type": "code",
   "execution_count": null,
   "metadata": {},
   "outputs": [],
   "source": [
    "# # Calling LLM\n",
    "# from dotenv import load_dotenv\n",
    "# load_dotenv()\n",
    "# import os \n",
    "# os.environ['GROQ_API_KEY'] = os.getenv(\"GROQ_API_KEY\")\n",
    "# from langchain_groq import ChatGroq\n",
    "# llm = ChatGroq(\n",
    "#     model_name=\"deepseek-r1-distill-llama-70b\",\n",
    "#     temperature=0\n",
    "# )\n",
    "# response=llm.invoke(\"what is length of wall of china?\")\n",
    "# response.content"
   ]
  },
  {
   "cell_type": "code",
   "execution_count": 2,
   "metadata": {},
   "outputs": [
    {
     "data": {
      "text/plain": [
       "'The Great Wall of China is approximately 13,171 miles (21,196 kilometers) long. This length includes all of its branches and sections built over various dynasties.'"
      ]
     },
     "execution_count": 2,
     "metadata": {},
     "output_type": "execute_result"
    }
   ],
   "source": [
    "from dotenv import load_dotenv\n",
    "import os\n",
    "from langchain_openai import ChatOpenAI\n",
    "from langchain_core.messages import HumanMessage, SystemMessage\n",
    "from langchain.tools import tool\n",
    "\n",
    "# 3. Load environment variables\n",
    "load_dotenv()\n",
    "os.environ[\"OPENAI_API_KEY\"] = os.getenv(\"OPENAI_API_KEY\")\n",
    "\n",
    "# 4. Initialize OpenAI model\n",
    "llm = ChatOpenAI(\n",
    "    model=\"gpt-4o\",  # Choose your model\n",
    "    temperature=0,         # Deterministic responses\n",
    "    max_tokens=2000,       # Longer responses for travel plans\n",
    "    api_key=os.getenv(\"OPENAI_API_KEY\")\n",
    ")\n",
    "response=llm.invoke(\"what is length of wall of china?\")\n",
    "response.content"
   ]
  },
  {
   "cell_type": "markdown",
   "metadata": {},
   "source": [
    "Creating custom tools "
   ]
  },
  {
   "cell_type": "code",
   "execution_count": 3,
   "metadata": {},
   "outputs": [],
   "source": [
    "from langchain.tools import tool"
   ]
  },
  {
   "cell_type": "code",
   "execution_count": 4,
   "metadata": {},
   "outputs": [],
   "source": [
    "# Creating custom tools #Addition\n",
    "@tool\n",
    "def addition(a:int,b:int) -> int:\n",
    "    \"\"\"\n",
    "    Add two integers.\n",
    "\n",
    "    Args:\n",
    "        a (int): The first integer.\n",
    "        b (int): The second integer.\n",
    "\n",
    "    Returns:\n",
    "        int: The sum of a and b.\n",
    "    \"\"\"\n",
    "    return a + b\n"
   ]
  },
  {
   "cell_type": "code",
   "execution_count": 5,
   "metadata": {},
   "outputs": [],
   "source": [
    "# Creating custom tools #Multiplication\n",
    "@tool\n",
    "def multiply(a:int,b:int) -> int:\n",
    "    \"\"\"\n",
    "    Multiply two integers.\n",
    "\n",
    "    Args:\n",
    "        a (int): The first integer.\n",
    "        b (int): The second integer.\n",
    "\n",
    "    Returns:\n",
    "        int: The product of a and b.\n",
    "    \"\"\"\n",
    "    return a * b\n"
   ]
  },
  {
   "cell_type": "code",
   "execution_count": 8,
   "metadata": {},
   "outputs": [],
   "source": [
    "# Creating custom tool - Division\n",
    "@tool\n",
    "def division(a: int, b: int) -> float:\n",
    "    \"\"\"\n",
    "    Divide two integers.\n",
    "\n",
    "    Args:\n",
    "        a (int): The numerator.\n",
    "        b (int): The denominator (must not be 0).\n",
    "\n",
    "    Returns:\n",
    "        float: The result of the division.\n",
    "    \"\"\"\n",
    "    if b == 0:\n",
    "        raise ValueError(\"Denominator cannot be zero.\")\n",
    "    return a / b\n"
   ]
  },
  {
   "cell_type": "code",
   "execution_count": 10,
   "metadata": {},
   "outputs": [],
   "source": [
    "# Creating custom tools #Division\n",
    "@tool\n",
    "def substraction (a:int,b:int) -> float:\n",
    "    \"\"\"\n",
    "    Substract two integers.\n",
    "\n",
    "    Args:\n",
    "        a (int): The first integer.\n",
    "        b (int): The second integer.\n",
    "\n",
    "    Returns:\n",
    "        int: The substraction of a and b.\n",
    "    \"\"\"\n",
    "    return a - b\n"
   ]
  },
  {
   "cell_type": "markdown",
   "metadata": {},
   "source": [
    "## Creating built in tools "
   ]
  },
  {
   "cell_type": "code",
   "execution_count": 11,
   "metadata": {},
   "outputs": [],
   "source": [
    "# #weather tool\n",
    "# from dotenv import load_dotenv\n",
    "# load_dotenv()\n",
    "# import os\n",
    "# os.environ[\"OPENWEATHERMAP_API_KEY\"] = os.getenv(\"OPENWEATHERMAP_API_KEY\")\n",
    "# from langchain_community.utilities import OpenWeatherMapAPIWrapper\n",
    "# weather = OpenWeatherMapAPIWrapper()\n",
    "# # weather_data = weather.run(\"Leh,IND\")\n",
    "#weather tool function\n",
    "\n",
    "from dotenv import load_dotenv\n",
    "from langchain_community.utilities import OpenWeatherMapAPIWrapper\n",
    "load_dotenv()\n",
    "import os\n",
    "os.environ[\"OPENWEATHERMAP_API_KEY\"] = os.getenv(\"OPENWEATHERMAP_API_KEY\")\n",
    "@tool\n",
    "def get_weather (city:str) -> str:\n",
    " \"\"\"\n",
    "    Fetches the current weather of the city from Openweathermap.\n",
    "\n",
    "    Args:\n",
    "        City (str): The city for which temperature is required (\"Delhi\",\"New York\",\"Paris)\n",
    "\n",
    "    Returns:\n",
    "        str: A message with the current weather of the city\n",
    "    \"\"\"\n",
    " weather = OpenWeatherMapAPIWrapper()\n",
    " return weather.run(city)\n"
   ]
  },
  {
   "cell_type": "code",
   "execution_count": 12,
   "metadata": {},
   "outputs": [],
   "source": [
    "# Serper API\n",
    "from dotenv import load_dotenv\n",
    "from langchain_community.utilities import GoogleSerperAPIWrapper\n",
    "load_dotenv()\n",
    "import os\n",
    "os.environ[\"SERPER_API_KEY\"] = os.getenv(\"SERPER_API_KEY\")\n",
    "@tool\n",
    "def search_google(query:str) ->str:\n",
    "    \"\"\"Fetches the details about \n",
    "    1.search attracation\n",
    "    2. search restaurant\n",
    "    3. search activity\n",
    "    4. search transportation\n",
    "    5. search hotel\n",
    "    6. estimate the hotel cost\n",
    "    7. budget_range  from Google Serper API.\n",
    "\n",
    "    Args:\n",
    "        Query (str): The Query for which details is required (\"restaurant in Delhi\",\" hotels in New York\",\"activities in Paris)\n",
    "\n",
    "    Returns:\n",
    "        str: A answer with the desired queries from user\"\"\"\n",
    "    search_serper = GoogleSerperAPIWrapper()\n",
    "    return search_serper.run(query)\n",
    "# search_serper.run(\"What are the most famous restraunts in Delhi\")"
   ]
  },
  {
   "cell_type": "code",
   "execution_count": 13,
   "metadata": {},
   "outputs": [],
   "source": [
    "# DuckDuck go search\n",
    "from langchain_community.tools import DuckDuckGoSearchRun\n",
    "@tool\n",
    "def search_duck(query:str) -> str:\n",
    "    \"\"\"Fetches the details about \n",
    "    1.search attracation\n",
    "    2. search restaurant\n",
    "    3. search activity\n",
    "    4. search transportation\n",
    "    5. search hotel\n",
    "    6. estimate the hotel cost\n",
    "    7. budget_range  from DuckDuckGoSearchRun.\n",
    "\n",
    "    Args:\n",
    "        Query (str): The Query for which details is required (\"restaurant in Delhi\",\" hotels in New York\",\"activities in Paris)\n",
    "\n",
    "    Returns:\n",
    "        str: A answer with the desired queries from user\"\"\"\n",
    "    search_d = DuckDuckGoSearchRun()\n",
    "    return(search_d.invoke(query))\n",
    "\n",
    "# query = \"Tell me about Jaipur\"\n",
    "# search_duck(query)"
   ]
  },
  {
   "cell_type": "code",
   "execution_count": 14,
   "metadata": {},
   "outputs": [],
   "source": [
    "#Advanced calculation tool\n",
    "from langchain_core.tools import Tool\n",
    "from langchain_experimental.utilities import PythonREPL\n",
    "python_repl = PythonREPL()\n",
    "# You can create the tool to pass to an agent\n",
    "repl_tool = Tool(\n",
    "    name=\"python_repl\",\n",
    "    description=\"A Python shell. Use this to execute python commands. Input should be a valid python command. If you want to see the output of a value, you should print it out with `print(...)`.\",\n",
    "    func=python_repl.run,\n",
    ")"
   ]
  },
  {
   "cell_type": "code",
   "execution_count": 15,
   "metadata": {},
   "outputs": [],
   "source": [
    "#youtube video \n",
    "from langchain_community.tools import YouTubeSearchTool\n",
    "@tool\n",
    "def youtube_search(query:str)->str:\n",
    "    \"\"\"Fetches the youtube videos about \n",
    "    1. attraction\n",
    "    2. restaurant\n",
    "    3. activity\n",
    "    4. hotel\n",
    "    5. vlogs for the city asked about from youtube\n",
    "    Args:\n",
    "        Query (str): The Query for which details is required (\"restaurant in Delhi\",\" hotels in New York\",\"activities in Paris)\n",
    "    Returns:\n",
    "        str: A answer with the desired video url for user\"\"\"\n",
    "    youtubetool = YouTubeSearchTool()\n",
    "    return youtubetool.run(query)\n",
    "\n",
    "\n"
   ]
  },
  {
   "cell_type": "code",
   "execution_count": 16,
   "metadata": {},
   "outputs": [],
   "source": [
    "tools=[addition,multiply, division, substraction,get_weather,search_google,search_duck,repl_tool,youtube_search]"
   ]
  },
  {
   "cell_type": "code",
   "execution_count": 17,
   "metadata": {},
   "outputs": [],
   "source": [
    "llm_with_tools=llm.bind_tools(tools)"
   ]
  },
  {
   "cell_type": "code",
   "execution_count": 18,
   "metadata": {},
   "outputs": [
    {
     "data": {
      "text/plain": [
       "[{'name': 'get_weather',\n",
       "  'args': {'city': 'Jaipur'},\n",
       "  'id': 'call_Mydk9O2nY9N0zenvo7lHAGIs',\n",
       "  'type': 'tool_call'}]"
      ]
     },
     "execution_count": 18,
     "metadata": {},
     "output_type": "execute_result"
    }
   ],
   "source": [
    "response=llm_with_tools.invoke(\"can you give me a latest weather for Jaipur?\")\n",
    "response.tool_calls"
   ]
  },
  {
   "cell_type": "code",
   "execution_count": 19,
   "metadata": {},
   "outputs": [],
   "source": [
    "from langchain_core.messages import HumanMessage, SystemMessage\n",
    "from langgraph.graph import MessagesState,StateGraph, END, START\n",
    "# system_prompt = SystemMessage (\"You are a helpful travel planning agent. Analyze user queries to identify their destination city and create comprehensive travel plans using these tools strategically: **Core Tasks:** 1. **Weather Check**: Use get_weather for current conditions 2. **Research Phase**: Use search_google OR search_duck for attractions, restaurants, activities   3. **Visual Content**: Use youtube_search for travel videos/vlogs 4. **Calculations**: Use repl_tool for complex math, arithmetic tools for simple calculations 5. **Itinerary**: Generate day-by-day plans using your knowledge 6. **Summary**: Provide clear, actionable travel recommendations**Guidelines:** - Always ask for missing details (dates, budget, preferences) - Present information in organized, easy-to-read format - Calculate total costs clearly- Provide practical, actionable advice\")\n",
    "# Instead of dedicated currency tool, update your system prompt:\n",
    "\n",
    "system_prompt = SystemMessage(\"\"\"\n",
    "You are a professional AI Travel Agent. You MUST follow this EXACT process for every travel query:\n",
    "\n",
    "STEP 1: ALWAYS call get_weather tool first for the destination city\n",
    "\n",
    "STEP 2: ALWAYS call search_google or search_duck to find:\n",
    "   - Hotels with specific prices per night\n",
    "   - Top attractions with entry fees\n",
    "   - Restaurants with price ranges\n",
    "   - Transportation options with costs\n",
    "   - CURRENCY CONVERSION: If user needs different currency, search for:\n",
    "     \"current exchange rate [from_currency] to [to_currency] today\"\n",
    "     \"100 [from_currency] to [to_currency] conversion rate\"\n",
    "\n",
    "STEP 3: ALWAYS use arithmetic tools (addition, multiply) to calculate:\n",
    "   - Hotel cost = daily_rate × number_of_days\n",
    "   - Total food cost = daily_food_budget × number_of_days\n",
    "   - Total attraction costs = sum of all entry fees\n",
    "   - Currency conversion = amount × exchange_rate (from search)\n",
    "   - Grand total = hotel + food + attractions + transport\n",
    "\n",
    "STEP 4: ALWAYS call youtube_search for relevant travel videos\n",
    "\n",
    "STEP 5: Create detailed day-by-day itinerary with REAL costs from your searches\n",
    "\n",
    "MANDATORY RULES:\n",
    "- For currency conversion: SEARCH for current exchange rates, don't guess\n",
    "- Use ACTUAL data from tool calls, never make up prices\n",
    "- Show detailed cost breakdown with calculations\n",
    "- Include weather information from the weather tool\n",
    "- Provide YouTube video links from your search\n",
    "\n",
    "EXAMPLES of currency searches:\n",
    "- \"current USD to INR exchange rate today\"\n",
    "- \"500 USD to Indian Rupees conversion\"\n",
    "- \"EUR to THB exchange rate December 2024\"\n",
    "\n",
    "FORMAT your response as:\n",
    "## Weather Information (from get_weather tool)\n",
    "## Currency Conversion (from search results)\n",
    "## Attractions & Activities (from search tools)\n",
    "## Hotels & Accommodation (from search tools)\n",
    "## Daily Itinerary (day-by-day breakdown)\n",
    "## Cost Breakdown (using calculation tools + currency conversion)\n",
    "## YouTube Resources (from youtube_search)\n",
    "## Summary\n",
    "\"\"\")"
   ]
  },
  {
   "cell_type": "code",
   "execution_count": null,
   "metadata": {},
   "outputs": [],
   "source": [
    "# user_query=[\"tell me what is 2+2\"]\n",
    "# [system_prompt]+user_query"
   ]
  },
  {
   "cell_type": "code",
   "execution_count": 20,
   "metadata": {},
   "outputs": [],
   "source": [
    "from langchain_core.messages import HumanMessage, SystemMessage\n",
    "from langgraph.graph import MessagesState,StateGraph, END, START\n",
    "def function_1(state:MessagesState):\n",
    "    user_question = state[\"messages\"]\n",
    "    input_question = [system_prompt]+user_question\n",
    "    response = llm_with_tools.invoke(input_question)\n",
    "    return {\n",
    "        \"messages\" : [response]\n",
    "    }\n"
   ]
  },
  {
   "cell_type": "code",
   "execution_count": 21,
   "metadata": {},
   "outputs": [],
   "source": [
    "builder = StateGraph(MessagesState)"
   ]
  },
  {
   "cell_type": "code",
   "execution_count": 22,
   "metadata": {},
   "outputs": [
    {
     "data": {
      "text/plain": [
       "<langgraph.graph.state.StateGraph at 0x142cd46e0>"
      ]
     },
     "execution_count": 22,
     "metadata": {},
     "output_type": "execute_result"
    }
   ],
   "source": [
    "builder.add_node(\"llm_decision_step\",function_1)"
   ]
  },
  {
   "cell_type": "code",
   "execution_count": 29,
   "metadata": {},
   "outputs": [
    {
     "data": {
      "text/plain": [
       "tools(tags=None, recurse=True, explode_args=False, func_accepts_config=True, func_accepts={'store': ('__pregel_store', None)}, tools_by_name={'addition': StructuredTool(name='addition', description='Add two integers.\\n\\nArgs:\\n    a (int): The first integer.\\n    b (int): The second integer.\\n\\nReturns:\\n    int: The sum of a and b.', args_schema=<class 'langchain_core.utils.pydantic.addition'>, func=<function addition at 0x13c3cf2e0>), 'multiply': StructuredTool(name='multiply', description='Multiply two integers.\\n\\nArgs:\\n    a (int): The first integer.\\n    b (int): The second integer.\\n\\nReturns:\\n    int: The product of a and b.', args_schema=<class 'langchain_core.utils.pydantic.multiply'>, func=<function multiply at 0x13c3cfa60>), 'division': StructuredTool(name='division', description='Divide two integers.\\n\\nArgs:\\n    a (int): The numerator.\\n    b (int): The denominator (must not be 0).\\n\\nReturns:\\n    float: The result of the division.', args_schema=<class 'langchain_core.utils.pydantic.division'>, func=<function division at 0x13c3cdb20>), 'substraction': StructuredTool(name='substraction', description='Substract two integers.\\n\\nArgs:\\n    a (int): The first integer.\\n    b (int): The second integer.\\n\\nReturns:\\n    int: The substraction of a and b.', args_schema=<class 'langchain_core.utils.pydantic.substraction'>, func=<function substraction at 0x13c3cf420>), 'get_weather': StructuredTool(name='get_weather', description='Fetches the current weather of the city from Openweathermap.\\n\\nArgs:\\n    City (str): The city for which temperature is required (\"Delhi\",\"New York\",\"Paris)\\n\\nReturns:\\n    str: A message with the current weather of the city', args_schema=<class 'langchain_core.utils.pydantic.get_weather'>, func=<function get_weather at 0x13c3cf7e0>), 'search_google': StructuredTool(name='search_google', description='Fetches the details about \\n1.search attracation\\n2. search restaurant\\n3. search activity\\n4. search transportation\\n5. search hotel\\n6. estimate the hotel cost\\n7. budget_range  from Google Serper API.\\n\\nArgs:\\n    Query (str): The Query for which details is required (\"restaurant in Delhi\",\" hotels in New York\",\"activities in Paris)\\n\\nReturns:\\n    str: A answer with the desired queries from user', args_schema=<class 'langchain_core.utils.pydantic.search_google'>, func=<function search_google at 0x13c3cfd80>), 'search_duck': StructuredTool(name='search_duck', description='Fetches the details about \\n1.search attracation\\n2. search restaurant\\n3. search activity\\n4. search transportation\\n5. search hotel\\n6. estimate the hotel cost\\n7. budget_range  from DuckDuckGoSearchRun.\\n\\nArgs:\\n    Query (str): The Query for which details is required (\"restaurant in Delhi\",\" hotels in New York\",\"activities in Paris)\\n\\nReturns:\\n    str: A answer with the desired queries from user', args_schema=<class 'langchain_core.utils.pydantic.search_duck'>, func=<function search_duck at 0x13c5487c0>), 'python_repl': Tool(name='python_repl', description='A Python shell. Use this to execute python commands. Input should be a valid python command. If you want to see the output of a value, you should print it out with `print(...)`.', func=<bound method PythonREPL.run of PythonREPL(globals={}, locals={})>), 'youtube_search': StructuredTool(name='youtube_search', description='Fetches the youtube videos about \\n1. attraction\\n2. restaurant\\n3. activity\\n4. hotel\\n5. vlogs for the city asked about from youtube\\nArgs:\\n    Query (str): The Query for which details is required (\"restaurant in Delhi\",\" hotels in New York\",\"activities in Paris)\\nReturns:\\n    str: A answer with the desired video url for user', args_schema=<class 'langchain_core.utils.pydantic.youtube_search'>, func=<function youtube_search at 0x142b0cd60>)}, tool_to_state_args={'addition': {}, 'multiply': {}, 'division': {}, 'substraction': {}, 'get_weather': {}, 'search_google': {}, 'search_duck': {}, 'python_repl': {}, 'youtube_search': {}}, tool_to_store_arg={'addition': None, 'multiply': None, 'division': None, 'substraction': None, 'get_weather': None, 'search_google': None, 'search_duck': None, 'python_repl': None, 'youtube_search': None}, handle_tool_errors=True, messages_key='messages')"
      ]
     },
     "execution_count": 29,
     "metadata": {},
     "output_type": "execute_result"
    }
   ],
   "source": [
    "ToolNode(tools)"
   ]
  },
  {
   "cell_type": "code",
   "execution_count": 32,
   "metadata": {},
   "outputs": [
    {
     "ename": "ValueError",
     "evalue": "Node `tools` already present.",
     "output_type": "error",
     "traceback": [
      "\u001b[31m---------------------------------------------------------------------------\u001b[39m",
      "\u001b[31mValueError\u001b[39m                                Traceback (most recent call last)",
      "\u001b[36mCell\u001b[39m\u001b[36m \u001b[39m\u001b[32mIn[32]\u001b[39m\u001b[32m, line 2\u001b[39m\n\u001b[32m      1\u001b[39m \u001b[38;5;28;01mfrom\u001b[39;00m\u001b[38;5;250m \u001b[39m\u001b[34;01mlanggraph\u001b[39;00m\u001b[34;01m.\u001b[39;00m\u001b[34;01mprebuilt\u001b[39;00m\u001b[38;5;250m \u001b[39m\u001b[38;5;28;01mimport\u001b[39;00m ToolNode\n\u001b[32m----> \u001b[39m\u001b[32m2\u001b[39m \u001b[43mbuilder\u001b[49m\u001b[43m.\u001b[49m\u001b[43madd_node\u001b[49m\u001b[43m(\u001b[49m\u001b[33;43m\"\u001b[39;49m\u001b[33;43mtools\u001b[39;49m\u001b[33;43m\"\u001b[39;49m\u001b[43m,\u001b[49m\u001b[43mToolNode\u001b[49m\u001b[43m(\u001b[49m\u001b[43mtools\u001b[49m\u001b[43m)\u001b[49m\u001b[43m)\u001b[49m\n",
      "\u001b[36mFile \u001b[39m\u001b[32m~/Desktop/Agentic_Krish/venv/lib/python3.13/site-packages/langgraph/graph/state.py:375\u001b[39m, in \u001b[36mStateGraph.add_node\u001b[39m\u001b[34m(self, node, action, defer, metadata, input, retry, cache_policy, destinations)\u001b[39m\n\u001b[32m    373\u001b[39m     \u001b[38;5;28;01mraise\u001b[39;00m \u001b[38;5;167;01mRuntimeError\u001b[39;00m\n\u001b[32m    374\u001b[39m \u001b[38;5;28;01mif\u001b[39;00m node \u001b[38;5;129;01min\u001b[39;00m \u001b[38;5;28mself\u001b[39m.nodes:\n\u001b[32m--> \u001b[39m\u001b[32m375\u001b[39m     \u001b[38;5;28;01mraise\u001b[39;00m \u001b[38;5;167;01mValueError\u001b[39;00m(\u001b[33mf\u001b[39m\u001b[33m\"\u001b[39m\u001b[33mNode `\u001b[39m\u001b[38;5;132;01m{\u001b[39;00mnode\u001b[38;5;132;01m}\u001b[39;00m\u001b[33m` already present.\u001b[39m\u001b[33m\"\u001b[39m)\n\u001b[32m    376\u001b[39m \u001b[38;5;28;01mif\u001b[39;00m node == END \u001b[38;5;129;01mor\u001b[39;00m node == START:\n\u001b[32m    377\u001b[39m     \u001b[38;5;28;01mraise\u001b[39;00m \u001b[38;5;167;01mValueError\u001b[39;00m(\u001b[33mf\u001b[39m\u001b[33m\"\u001b[39m\u001b[33mNode `\u001b[39m\u001b[38;5;132;01m{\u001b[39;00mnode\u001b[38;5;132;01m}\u001b[39;00m\u001b[33m` is reserved.\u001b[39m\u001b[33m\"\u001b[39m)\n",
      "\u001b[31mValueError\u001b[39m: Node `tools` already present."
     ]
    }
   ],
   "source": [
    "from langgraph.prebuilt import ToolNode\n",
    "builder.add_node(\"tools\",ToolNode(tools))\n"
   ]
  },
  {
   "cell_type": "code",
   "execution_count": 33,
   "metadata": {},
   "outputs": [
    {
     "data": {
      "text/plain": [
       "<langgraph.graph.state.StateGraph at 0x142cd46e0>"
      ]
     },
     "execution_count": 33,
     "metadata": {},
     "output_type": "execute_result"
    }
   ],
   "source": [
    "builder.add_edge(START,\"llm_decision_step\")"
   ]
  },
  {
   "cell_type": "code",
   "execution_count": 34,
   "metadata": {},
   "outputs": [
    {
     "data": {
      "text/plain": [
       "<langgraph.graph.state.StateGraph at 0x142cd46e0>"
      ]
     },
     "execution_count": 34,
     "metadata": {},
     "output_type": "execute_result"
    }
   ],
   "source": [
    "from langgraph.prebuilt import tools_condition\n",
    "builder.add_conditional_edges(\n",
    "    \"llm_decision_step\",\n",
    "    tools_condition\n",
    ")\n"
   ]
  },
  {
   "cell_type": "code",
   "execution_count": 35,
   "metadata": {},
   "outputs": [
    {
     "data": {
      "text/plain": [
       "<langgraph.graph.state.StateGraph at 0x142cd46e0>"
      ]
     },
     "execution_count": 35,
     "metadata": {},
     "output_type": "execute_result"
    }
   ],
   "source": [
    "builder.add_edge(\"tools\",\"llm_decision_step\")"
   ]
  },
  {
   "cell_type": "code",
   "execution_count": 36,
   "metadata": {},
   "outputs": [],
   "source": [
    "react_graph=builder.compile()"
   ]
  },
  {
   "cell_type": "code",
   "execution_count": 37,
   "metadata": {},
   "outputs": [
    {
     "data": {
      "image/png": "[encoded data removed]",
      "text/plain": [
       "<IPython.core.display.Image object>"
      ]
     },
     "metadata": {},
     "output_type": "display_data"
    }
   ],
   "source": [
    "from IPython.display import Image, display\n",
    "display(Image(react_graph.get_graph().draw_mermaid_png()))"
   ]
  },
  {
   "cell_type": "code",
   "execution_count": 38,
   "metadata": {},
   "outputs": [
    {
     "name": "stderr",
     "output_type": "stream",
     "text": [
      "Python REPL can execute arbitrary code. Use with caution.\n"
     ]
    },
    {
     "name": "stdout",
     "output_type": "stream",
     "text": [
      "================================\u001b[1m Human Message \u001b[0m=================================\n",
      "\n",
      "\n",
      "I want to visit Thailand for 5 days.\n",
      "My budget is 800 USD.\n",
      "Please convert all costs to Indian Rupees for me.\n",
      "Get current weather for Bangkok.\n",
      "Find budget hotels under 30 USD per night.\n",
      "Include food costs (street food vs restaurants).\n",
      "Show me temple entry fees and transportation costs.\n",
      "Calculate total trip cost in both USD and INR.\n",
      "Show me Bangkok travel videos.\n",
      "I need detailed cost breakdown with currency conversion.\n",
      "\n",
      "==================================\u001b[1m Ai Message \u001b[0m==================================\n",
      "Tool Calls:\n",
      "  get_weather (call_sSBsPCox8Imc5l26iC68HHEN)\n",
      " Call ID: call_sSBsPCox8Imc5l26iC68HHEN\n",
      "  Args:\n",
      "    city: Bangkok\n",
      "=================================\u001b[1m Tool Message \u001b[0m=================================\n",
      "Name: get_weather\n",
      "\n",
      "In Bangkok, the current weather is as follows:\n",
      "Detailed status: overcast clouds\n",
      "Wind speed: 2.99 m/s, direction: 192°\n",
      "Humidity: 74%\n",
      "Temperature: \n",
      "  - Current: 29.54°C\n",
      "  - High: 29.54°C\n",
      "  - Low: 29.54°C\n",
      "  - Feels like: 34.84°C\n",
      "Rain: {}\n",
      "Heat index: None\n",
      "Cloud cover: 100%\n",
      "==================================\u001b[1m Ai Message \u001b[0m==================================\n",
      "Tool Calls:\n",
      "  search_google (call_5YxQxWg5d74cAahhWdSQC180)\n",
      " Call ID: call_5YxQxWg5d74cAahhWdSQC180\n",
      "  Args:\n",
      "    query: budget hotels in Bangkok under 30 USD per night\n",
      "  search_google (call_R1LN1ENJmIY2e4cSzk8nnvDa)\n",
      " Call ID: call_R1LN1ENJmIY2e4cSzk8nnvDa\n",
      "  Args:\n",
      "    query: street food and restaurant costs in Bangkok\n",
      "  search_google (call_zi5K75SVdOKps0pc9iG2MvnA)\n",
      " Call ID: call_zi5K75SVdOKps0pc9iG2MvnA\n",
      "  Args:\n",
      "    query: temple entry fees in Bangkok\n",
      "  search_google (call_wk0MB9ymhJRGfIathO1IymQ9)\n",
      " Call ID: call_wk0MB9ymhJRGfIathO1IymQ9\n",
      "  Args:\n",
      "    query: transportation costs in Bangkok\n",
      "  search_google (call_vdov9ZDK4R387wiIxc7yzEdE)\n",
      " Call ID: call_vdov9ZDK4R387wiIxc7yzEdE\n",
      "  Args:\n",
      "    query: current USD to INR exchange rate today\n",
      "=================================\u001b[1m Tool Message \u001b[0m=================================\n",
      "Name: search_google\n",
      "\n",
      "1. Hotel Clover Asoke · 2. Asia Hotel Bangkok · 3. Rambuttri Village Inn & Plaza · 4. La Petite Salil Sukhumvit 11 · 5. Red Planet Bangkok Asoke. The most affordable areas for cheap hotels include South Thonburi ($28), Bang Kapi ($27), and Thonburi ($30). On the other hand, China Town ($43), Bangkok ... Budget Hotels To stay In BANGKOK | Under $30 Per Night #livelovethailand ... Cheap hotels in Bangkok ; Pranakorn Heritage Hotel · From $112 per night. 9.1 · 1,475 reviews ; Grande Centre Point Surawong Bangkok · From $215 per night. 9.4 ... For highly-rated budget choices, consider Vx The Fifty, Rose Nana Hotel, 3Howw Hostel Sukhumvit 21, Bodega Party City Center Bangkok - Hostel, Varinda Hostel , ... 13 Coins Hotel Tiwanon (Impact Arena). 2.7. (7 reviews). 12.2 miles from Bangkok. #37 of 48 hotels in Nonthaburi. \"Stay here for a night ... I am looking for a hotel room with a good location in Bangkok under 50 dollars per night in December. I don't necessarily need luxury but it needs to be clean. With Expedia, enjoy free cancellation on most Bangkok City Centre Cheap Hotels! Browse 310 hotels, read 11542 user reviews and book your room with us! Find hotels in Bangkok, Thailand and explore top accommodation in the city. Check out star rating and review score before you book! I've spent the last two weeks at the Park Plaza on Soi 18. It's about $80 USD/night. Very friendly and helpful staff. Nice pool. Decent food.\n",
      "=================================\u001b[1m Tool Message \u001b[0m=================================\n",
      "Name: search_google\n",
      "\n",
      "Food is cheap and high quality, with the average cost of a meal in a restaurant costing between 60-100 baht . Street food is cheaper with a Pad Thai costing 40-50 baht and a bottle of water 10 baht. *Exchange rates as of 03/05/2023. For the current exchange rates, please see here. The average price for a meal from a street vendor ranges from 30 to 100 Baht ($1 to $3 USD). For more sit-down restaurants, expect to pay ... The lowest is about 120 baht. 'Joke' (rice congee) for breakfast, noodle soup with mixed pork for lunch, rice with mixed veggies for dinner. You can spend 25 baht for a street food meal then go around the corner and spend 5,000 baht for a five-star meal. Spend as much or little as you ... Our new family channel is live now! @RoamingDad https://www.youtube.com/watch?v=bbnkj-4Xe94 Get my Ultimate Street Food Map of Bangkok here: ... In this Bangkok travel guide for food lovers you'll discover some of the best things to do, hotels and accommodation, and my personal tips for Thai food. Price: Most dishes cost around 30–60 THB ($0.90–$1.80), perfect for those traveling on a shoestring budget. Where to find it: Explore the ... Our new family channel is live now! @RoamingDad https://www.youtube.com/watch?v=bbnkj-4Xe94 Get my Ultimate Street Food Map of Bangkok here: ... All the best places to eat in Bangkok without the pomp and circumstance of high-end dining. Plus the best spots to base yourself for an unforgettable street ... Cheaper & Better Street Food is a must! This place is aptly named: the dishes on offer are not only economical, but also incredibly good.\n",
      "=================================\u001b[1m Tool Message \u001b[0m=================================\n",
      "Name: search_google\n",
      "\n",
      "wat-pho-your-thai-guide Wat Pho / Temple of the Reclining Buddha. Price: 300 Baht per person (free entry for children under 120cms) Open: 8:00am until 6:30pm In this travel guide, you will find the top must visit Bangkok temples (which are known as Wats), which represent centuries of spirituality and architectural ... The Grand Palace & Emerald Buddha is open from 8:30 am - 3.30 pm everyday, ticket is 500 baht (14 USD). USE YOUR TICKET IN 3 SEPARATE PARTS. The entrance fee for foreigners is currently set at 100 THB, a small price to pay for the chance to explore this magnificent temple. Open daily 08.00 - 18.00 hrs. Entrance fee : 200 baht. For further details contact, Tel. 0 2891 2185. Read More. The entrance fee for foreigners is 100 Thai Baht. What are the temple hours? Wat Pho is open daily from 8:00 AM to 6:30 PM. What should I wear ... The temple is open from 8:00 am to 6:00 pm every day. The entrance fee is 100 Thai Baht. As its name suggests, the temple is particularly ... The entrance fee is 100 baht. · The entry fee to the temple is 100 baht. The temple remains open daily from 08:30 to 17:30. · There is no entry ... 1⃣ Paying such hefty amounts to visit the Buddha temples: The entry fee for Wat Arun is 200Baht per person and you can rent the traditional ... The Wat Phra Kaew Temple, also known as 'Temple of the Emerald Buddha' can be found in the historic centre of Bangkok, within the grounds of the Grand Palace.\n",
      "=================================\u001b[1m Tool Message \u001b[0m=================================\n",
      "Name: search_google\n",
      "\n",
      "The average cost of a one-way trip is usually a dollar or less. A one-day pass for 24 hours of unlimited rides costs 150 baht (around $4.10). For a regular bus ride, you'll be spending around 8 THB, while expressway buses might cost you 10 THB and up. If you are looking for more ... Pricing: Fares generally range between 100 to 150 baht (approximately S$4 to S$5), making them affordable for short trips. Tipping: While not ... The meter always starts at 35฿, and a typical 20-minute ... A trip within central Bangkok should cost between 60 – 80 Baht (plus an additional 10 – 20 during peak hours). The trip to the airport is about 200 – 300 Baht. When I take a cab it costs me around 200 Baht in cab fare and 60 for the tolls. That same journey by train costs 100 Baht. The ... Fare ranges from 15 to 40 THB. A child ticket is half the price of an adult ticket. For the maximum distance, a child ticket costs 20 THB. Metro to the airport. A taxi is between 40 and 400 baht depending on if it's a short trip or clear across the city. If you get scammed you'll pay the equivalent of three dollars you ... Yellow buses, these are newer, air-conditioned buses and charge about 10 – 12 baht per person. These are three that we primarily travelled on, but you also get ... Taxis start at 35 Baht and thereafter 2 Baht for the first 2 km and then 2 Baht per km after that. The traffic in some areas in Bangkok can however be appalling ...\n",
      "=================================\u001b[1m Tool Message \u001b[0m=================================\n",
      "Name: search_google\n",
      "\n",
      "Convert US Dollar to Indian Rupee ; 1 USD. 86.5354 INR ; 5 USD. 432.677 INR ; 10 USD. 865.354 INR ; 25 USD. 2,163.38 INR ; 50 USD. 4,326.77 INR. Conversion rates Indian Rupee / US Dollar. 1 INR, 0.01154 USD. 5 INR, 0.05771 USD. 10 INR, 0.11543 USD. 20 INR, 0.23086 USD. 50 INR, 0.57715 USD. USD-INR X-RATE. Following Follow Follow. USDINR:CUR. Following Follow Follow. (INR). 86.5912. 0.14–0.17%. As of 5:59 AM EDT 06/20/25 . Summary. Related News. Sign up today. USD to INR conversion chart. 1 USD = 86.57000 INR. 0. Updated a ... Conversion rates US Dollar / Indian Rupee. 1 USD, 86.57000 INR. 5 USD ... FX: 1.00 USD – 86.9886 INR Exchange Rates and Fees shown are estimates, vary by a number of factors including payment and payout methods, and are subject to ... Today i.e.Friday 20/06/2025 , for 1 US Dollar you get 86.62 Indian Rupees. Change in USD to INR rate from previous day is +0.28%. Moreover, we have also added ... US Dollar to Indian Rupee Exchange Rate Chart · USD to INR Chart · +3.82%. (1Y). US Dollar to Indian Rupee. 1 USD = 86.6208 INR. Jun 20 ... 1 USD = 86.4775 INR · SELL 1 USD @ 86.4675 INR · BUY 1 USD @ 86.4775 INR. US Dollar/Indian Rupee FX Spot Rate INR=:Exchange ; Open86.679 ; Prev Close86.813 ; Day High86.68 ; Day Low86.557 ... Now you can find out the Dollar to Rupee exchange rate today and get attractive conversion rates with DBS Treasures from the comfort of your home.\n",
      "==================================\u001b[1m Ai Message \u001b[0m==================================\n",
      "Tool Calls:\n",
      "  youtube_search (call_2RiKzQbc9F3BKwxwXbcNASKm)\n",
      " Call ID: call_2RiKzQbc9F3BKwxwXbcNASKm\n",
      "  Args:\n",
      "    query: Bangkok travel guide\n",
      "=================================\u001b[1m Tool Message \u001b[0m=================================\n",
      "Name: youtube_search\n",
      "\n",
      "['https://www.youtube.com/watch?v=21mKbR-4VTA&pp=ygUUQmFuZ2tvayB0cmF2ZWwgZ3VpZGU%3D', 'https://www.youtube.com/watch?v=skr5v0buxJM&pp=ygUUQmFuZ2tvayB0cmF2ZWwgZ3VpZGU%3D']\n",
      "==================================\u001b[1m Ai Message \u001b[0m==================================\n",
      "Tool Calls:\n",
      "  multiply (call_JMJqr3oKaeTWBGDP8J5tPpQj)\n",
      " Call ID: call_JMJqr3oKaeTWBGDP8J5tPpQj\n",
      "  Args:\n",
      "    a: 30\n",
      "    b: 5\n",
      "=================================\u001b[1m Tool Message \u001b[0m=================================\n",
      "Name: multiply\n",
      "\n",
      "150\n",
      "==================================\u001b[1m Ai Message \u001b[0m==================================\n",
      "Tool Calls:\n",
      "  multiply (call_hNB89wZSefDYSnQm8CodbaV6)\n",
      " Call ID: call_hNB89wZSefDYSnQm8CodbaV6\n",
      "  Args:\n",
      "    a: 100\n",
      "    b: 5\n",
      "=================================\u001b[1m Tool Message \u001b[0m=================================\n",
      "Name: multiply\n",
      "\n",
      "500\n",
      "==================================\u001b[1m Ai Message \u001b[0m==================================\n",
      "Tool Calls:\n",
      "  addition (call_S3aadkOrivZprIchIUg21zoF)\n",
      " Call ID: call_S3aadkOrivZprIchIUg21zoF\n",
      "  Args:\n",
      "    a: 300\n",
      "    b: 500\n",
      "=================================\u001b[1m Tool Message \u001b[0m=================================\n",
      "Name: addition\n",
      "\n",
      "800\n",
      "==================================\u001b[1m Ai Message \u001b[0m==================================\n",
      "Tool Calls:\n",
      "  multiply (call_96N8glkJuismA1InWilL9FoB)\n",
      " Call ID: call_96N8glkJuismA1InWilL9FoB\n",
      "  Args:\n",
      "    a: 86.62\n",
      "    b: 800\n",
      "=================================\u001b[1m Tool Message \u001b[0m=================================\n",
      "Name: multiply\n",
      "\n",
      "Error: 1 validation error for multiply\n",
      "a\n",
      "  Input should be a valid integer, got a number with a fractional part [type=int_from_float, input_value=86.62, input_type=float]\n",
      "    For further information visit https://errors.pydantic.dev/2.11/v/int_from_float\n",
      " Please fix your mistakes.\n",
      "==================================\u001b[1m Ai Message \u001b[0m==================================\n",
      "Tool Calls:\n",
      "  python_repl (call_PU9YQ3r4Y1G4uA47IUsQqUSE)\n",
      " Call ID: call_PU9YQ3r4Y1G4uA47IUsQqUSE\n",
      "  Args:\n",
      "    __arg1: 86.62 * 800\n",
      "=================================\u001b[1m Tool Message \u001b[0m=================================\n",
      "Name: python_repl\n",
      "\n",
      "\n",
      "==================================\u001b[1m Ai Message \u001b[0m==================================\n"
     ]
    }
   ],
   "source": [
    "from langchain_core.messages import HumanMessage\n",
    "\n",
    "# Test your travel agent!\n",
    "response = react_graph.invoke({\n",
    "    \"messages\": [HumanMessage(\"\"\"\n",
    "I want to visit Thailand for 5 days.\n",
    "My budget is 800 USD.\n",
    "Please convert all costs to Indian Rupees for me.\n",
    "Get current weather for Bangkok.\n",
    "Find budget hotels under 30 USD per night.\n",
    "Include food costs (street food vs restaurants).\n",
    "Show me temple entry fees and transportation costs.\n",
    "Calculate total trip cost in both USD and INR.\n",
    "Show me Bangkok travel videos.\n",
    "I need detailed cost breakdown with currency conversion.\n",
    "\"\"\")]\n",
    "})\n",
    "\n",
    "response[\"messages\"][-1].content\n",
    "for m in response[\"messages\"]:\n",
    "    m.pretty_print()"
   ]
  },
  {
   "cell_type": "code",
   "execution_count": null,
   "metadata": {},
   "outputs": [],
   "source": []
  }
 ],
 "metadata": {
  "kernelspec": {
   "display_name": "Python 3",
   "language": "python",
   "name": "python3"
  },
  "language_info": {
   "codemirror_mode": {
    "name": "ipython",
    "version": 3
   },
   "file_extension": ".py",
   "mimetype": "text/x-python",
   "name": "python",
   "nbconvert_exporter": "python",
   "pygments_lexer": "ipython3",
   "version": "3.13.0"
  }
 },
 "nbformat": 4,
 "nbformat_minor": 2
}
